{
 "cells": [
  {
   "cell_type": "markdown",
   "id": "eb0e9262",
   "metadata": {},
   "source": [
    "Spam Detection : given mail in an index, identify those mail message that are spam and those that are not. "
   ]
  },
  {
   "cell_type": "code",
   "execution_count": 12,
   "id": "ccd68927",
   "metadata": {},
   "outputs": [
    {
     "name": "stdout",
     "output_type": "stream",
     "text": [
      "Accuracy :  0.6923076923076923\n",
      "Confusion matrix:  [[17  1]\n",
      " [ 7  1]]\n",
      "Classification Report :                precision    recall  f1-score   support\n",
      "\n",
      "           0       0.71      0.94      0.81        18\n",
      "           1       0.50      0.12      0.20         8\n",
      "\n",
      "    accuracy                           0.69        26\n",
      "   macro avg       0.60      0.53      0.50        26\n",
      "weighted avg       0.64      0.69      0.62        26\n",
      "\n"
     ]
    }
   ],
   "source": [
    "import pandas as pd\n",
    "import numpy as np\n",
    "from sklearn.preprocessing import StandardScaler,LabelEncoder\n",
    "from sklearn.metrics import accuracy_score,classification_report,confusion_matrix\n",
    "from sklearn.model_selection import train_test_split\n",
    "from sklearn.feature_extraction.text import CountVectorizer\n",
    "from sklearn.linear_model import LogisticRegression\n",
    "\n",
    "data=pd.read_csv('email_spam.csv')\n",
    "data['type']=data['type'].map({'spam':1,'not spam':0})\n",
    "\n",
    "X=data['text']\n",
    "y=data['type']\n",
    "vectorizer=CountVectorizer(stop_words='english')\n",
    "X_vectorized=vectorizer.fit_transform(X)\n",
    "X_train, X_test, y_train, y_test = train_test_split(X_vectorized, y, test_size=0.3, random_state=42, stratify=y)\n",
    "model = LogisticRegression()\n",
    "model.fit(X_train, y_train) \n",
    "\n",
    "model=LogisticRegression()\n",
    "model.fit(X_train,y_train)\n",
    "\n",
    "y_pred=model.predict(X_test)\n",
    "print(\"Accuracy : \",accuracy_score(y_test,y_pred))\n",
    "print(\"Confusion matrix: \",confusion_matrix(y_test,y_pred))\n",
    "print(\"Classification Report : \",classification_report(y_test,y_pred))"
   ]
  }
 ],
 "metadata": {
  "kernelspec": {
   "display_name": "base",
   "language": "python",
   "name": "python3"
  },
  "language_info": {
   "codemirror_mode": {
    "name": "ipython",
    "version": 3
   },
   "file_extension": ".py",
   "mimetype": "text/x-python",
   "name": "python",
   "nbconvert_exporter": "python",
   "pygments_lexer": "ipython3",
   "version": "3.13.5"
  }
 },
 "nbformat": 4,
 "nbformat_minor": 5
}
