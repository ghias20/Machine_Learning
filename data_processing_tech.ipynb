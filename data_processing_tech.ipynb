{
 "cells": [
  {
   "cell_type": "markdown",
   "id": "61d5481a",
   "metadata": {},
   "source": [
    "Data-Processing Techniques\n",
    "a. Standardization\n",
    "b. normalization\n",
    "c. summarization\n",
    "d. de-duplication\n",
    "e.imputation"
   ]
  },
  {
   "cell_type": "code",
   "execution_count": 13,
   "id": "12f4b2fd",
   "metadata": {},
   "outputs": [
    {
     "name": "stdout",
     "output_type": "stream",
     "text": [
      "Original Data is : \n",
      "     Age  Salary  Height\n",
      "0  25.0   50000     5.5\n",
      "1  30.0   54000     6.0\n",
      "2  35.0   58000     5.8\n",
      "3   NaN   62000     5.7\n",
      "4  40.0   60000     6.1\n",
      "5  30.0   54000     6.0\n",
      "Standardized data: \n",
      "         Age    Salary    Height\n",
      "0 -1.372813 -1.556541 -1.697749\n",
      "1 -0.392232 -0.573462  0.727607\n",
      "2  0.588348  0.409616 -0.242536\n",
      "3       NaN  1.392694 -0.727607\n",
      "4  1.568929  0.901155  1.212678\n",
      "5 -0.392232 -0.573462  0.727607\n",
      "Normalized data: \n",
      "         Age    Salary    Height\n",
      "0  0.000000  0.000000  0.000000\n",
      "1  0.333333  0.333333  0.833333\n",
      "2  0.666667  0.666667  0.500000\n",
      "3       NaN  1.000000  0.333333\n",
      "4  1.000000  0.833333  1.000000\n",
      "5  0.333333  0.333333  0.833333\n",
      "\n",
      "✅ Summarization using describe():\n",
      "              Age        Salary    Height\n",
      "count   5.000000      6.000000  6.000000\n",
      "mean   32.000000  56333.333333  5.850000\n",
      "std     5.700877   4457.203907  0.225832\n",
      "min    25.000000  50000.000000  5.500000\n",
      "25%    30.000000  54000.000000  5.725000\n",
      "50%    30.000000  56000.000000  5.900000\n",
      "75%    35.000000  59500.000000  6.000000\n",
      "max    40.000000  62000.000000  6.100000\n",
      "Dara after de-duplication: \n",
      "     Age  Salary  Height\n",
      "0  25.0   50000     5.5\n",
      "1  30.0   54000     6.0\n",
      "2  35.0   58000     5.8\n",
      "3   NaN   62000     5.7\n",
      "4  40.0   60000     6.1\n",
      "Data after Imputation: \n",
      " [[25.]\n",
      " [30.]\n",
      " [35.]\n",
      " [32.]\n",
      " [40.]\n",
      " [30.]]\n"
     ]
    }
   ],
   "source": [
    "import pandas as pd\n",
    "from sklearn.preprocessing import StandardScaler,MinMaxScaler\n",
    "data={\n",
    "    'Age': [25, 30, 35, None, 40, 30],\n",
    "    'Salary': [50000, 54000, 58000, 62000, 60000, 54000],\n",
    "    'Height': [5.5, 6.0, 5.8, 5.7, 6.1, 6.0]\n",
    "}\n",
    "df=pd.DataFrame(data)\n",
    "print(\"Original Data is : \\n\",df)\n",
    "# Standardization -> process of scaling features to have mean=0 & standard-deviation=1\n",
    "scaler=StandardScaler()\n",
    "df_standardized=df.copy()\n",
    "df_standardized[['Age','Salary','Height']]=scaler.fit_transform(df[['Age','Salary','Height']])\n",
    "print(\"Standardized data: \\n\",df_standardized)\n",
    "\n",
    "# Normalization -> rescales features to a fixed range, usually 0 to 1.\n",
    "scaler=MinMaxScaler()\n",
    "df_normalized=df.copy()\n",
    "df_normalized[['Age','Salary','Height']]=scaler.fit_transform(df[['Age','Salary','Height']])\n",
    "print(\"Normalized data: \\n\",df_normalized)\n",
    "\n",
    "# Summarization -> describing the dataset using statistical measures like mean, median, min, max, std,etc..\n",
    "print(\"\\n✅ Summarization using describe():\\n\", df.describe())\n",
    "\n",
    "# De-duplication removes duplicate rows from the dataset.\n",
    "df_dedup=df.drop_duplicates()\n",
    "print(\"Dara after de-duplication: \\n\",df_dedup)\n",
    "\n",
    "# Imputation -> replacing missing values (NaN) with meaningful values such as mean, median, or mode.\n",
    "from sklearn.impute import SimpleImputer\n",
    "imputer=SimpleImputer(strategy='mean')\n",
    "df_imputed=df.copy()\n",
    "df_imputed=imputer.fit_transform(df_imputed[['Age']])\n",
    "print(\"Data after Imputation: \\n\",df_imputed)"
   ]
  }
 ],
 "metadata": {
  "kernelspec": {
   "display_name": "base",
   "language": "python",
   "name": "python3"
  },
  "language_info": {
   "codemirror_mode": {
    "name": "ipython",
    "version": 3
   },
   "file_extension": ".py",
   "mimetype": "text/x-python",
   "name": "python",
   "nbconvert_exporter": "python",
   "pygments_lexer": "ipython3",
   "version": "3.13.5"
  }
 },
 "nbformat": 4,
 "nbformat_minor": 5
}
