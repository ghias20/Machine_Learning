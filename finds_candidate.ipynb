{
 "cells": [
  {
   "cell_type": "markdown",
   "id": "81dd68bd",
   "metadata": {},
   "source": [
    "Find-S and Candidate Elimination"
   ]
  },
  {
   "cell_type": "code",
   "execution_count": null,
   "id": "c35c7356",
   "metadata": {},
   "outputs": [
    {
     "name": "stdout",
     "output_type": "stream",
     "text": [
      "Hypothesis using Find-S is :  ['Sunny', 'Warm', '?', '?']\n"
     ]
    }
   ],
   "source": [
    "import pandas as pd\n",
    "data = [\n",
    "    ['Sunny', 'Warm', 'Normal', 'Strong', 1],\n",
    "    ['Sunny', 'Warm', 'High', 'Strong', 1],\n",
    "    ['Rainy', 'Cold', 'High', 'Weak', 0],\n",
    "    ['Sunny', 'Warm', 'High', 'Weak', 1]\n",
    "]\n",
    "\n",
    "df=pd.DataFrame(data, columns=['Sky','AirTemp','Humidity','Wind','PlayTennis'])\n",
    "\n",
    "def Find_S_algo(df):\n",
    "    hypothesis = [0]*(len(df.columns)-1)\n",
    "    for i in range(len(df)):\n",
    "        if df.iloc[i,-1]==1:\n",
    "            for j in range(len(hypothesis)):\n",
    "                if hypothesis[j]==0: \n",
    "                    hypothesis[j]=df.iloc[i,j]\n",
    "                elif hypothesis[j]!=df.iloc[i,j]:\n",
    "                    hypothesis[j]='?'\n",
    "    return hypothesis\n",
    "ad=Find_S_algo(df)\n",
    "print(\"Hypothesis using Find-S is : \",ad)"
   ]
  },
  {
   "cell_type": "code",
   "execution_count": null,
   "id": "574c73bd",
   "metadata": {},
   "outputs": [
    {
     "name": "stdout",
     "output_type": "stream",
     "text": [
      "\n",
      "Final Specific Hypothesis (S): ['Sunny' 'Warm' '?' '?']\n",
      "\n",
      "Final General Hypotheses (G): [['Sunny', '?', '?', '?'], ['?', 'Warm', '?', '?']]\n"
     ]
    }
   ],
   "source": [
    "import pandas as pd\n",
    "data = [\n",
    "    ['Sunny', 'Warm', 'Normal', 'Strong', 1],\n",
    "    ['Sunny', 'Warm', 'High', 'Strong', 1],\n",
    "    ['Rainy', 'Cold', 'High', 'Weak', 0],\n",
    "    ['Sunny', 'Warm', 'High', 'Weak', 1]\n",
    "]\n",
    "\n",
    "df = pd.DataFrame(data, columns=['Sky','AirTemp','Humidity','Wind','PlayTennis'])\n",
    "concepts = df.iloc[:,:-1].values\n",
    "target = df.iloc[:,-1].values\n",
    "\n",
    "def learn(concepts, target):\n",
    "    # Step 1: Initialize specific_h with first positive example\n",
    "    for i in range(len(target)):\n",
    "        if target[i] == 1:\n",
    "            specific_h = concepts[i].copy()\n",
    "            break\n",
    "\n",
    "    # Step 2: Initialize general_h as list of hypotheses\n",
    "    general_h = [['?' for _ in range(len(specific_h))]]\n",
    "\n",
    "    # Step 3: Iterate over all examples\n",
    "    for i, h in enumerate(concepts):\n",
    "        if target[i] == 1:  # Positive example\n",
    "            for x in range(len(specific_h)):\n",
    "                if h[x] != specific_h[x]:\n",
    "                    specific_h[x] = '?'\n",
    "            # Remove inconsistent general hypotheses\n",
    "            general_h = [g for g in general_h if all(g[j] == '?' or g[j] == specific_h[j] for j in range(len(g)))]\n",
    "\n",
    "        else:  # Negative example\n",
    "            new_general = []\n",
    "            for g in general_h:\n",
    "                if all(g[j] == '?' or g[j] == h[j] for j in range(len(g))):\n",
    "                    for x in range(len(g)):\n",
    "                        if g[x] == '?':\n",
    "                            if specific_h[x] != h[x]:\n",
    "                                new_hypothesis = g.copy()\n",
    "                                new_hypothesis[x] = specific_h[x]\n",
    "                                if new_hypothesis not in new_general:\n",
    "                                    new_general.append(new_hypothesis)\n",
    "                else:\n",
    "                    new_general.append(g)\n",
    "            general_h = new_general\n",
    "\n",
    "    # Clean up general hypotheses\n",
    "    general_h = [g for g in general_h if all(g[i] == '?' or g[i] == specific_h[i] for i in range(len(specific_h)))]\n",
    "    general_h = [g for g in general_h if g != ['?' for _ in range(len(specific_h))]]\n",
    "\n",
    "    return specific_h, general_h\n",
    "\n",
    "# Train and display final hypotheses\n",
    "s_final, g_final = learn(concepts, target)\n",
    "print(\"\\nFinal Specific Hypothesis (S):\", s_final)\n",
    "print(\"\\nFinal General Hypotheses (G):\", g_final)\n"
   ]
  }
 ],
 "metadata": {
  "kernelspec": {
   "display_name": "base",
   "language": "python",
   "name": "python3"
  },
  "language_info": {
   "codemirror_mode": {
    "name": "ipython",
    "version": 3
   },
   "file_extension": ".py",
   "mimetype": "text/x-python",
   "name": "python",
   "nbconvert_exporter": "python",
   "pygments_lexer": "ipython3",
   "version": "3.13.5"
  }
 },
 "nbformat": 4,
 "nbformat_minor": 5
}
